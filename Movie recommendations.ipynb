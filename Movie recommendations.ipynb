{
 "cells": [
  {
   "cell_type": "markdown",
   "id": "52a3cded-f144-4b00-9b2a-6ca8dd07dbf6",
   "metadata": {},
   "source": [
    "## **電影推薦應用實作**\n",
    "--------------------------------"
   ]
  },
  {
   "cell_type": "code",
   "execution_count": 1,
   "id": "a8506ac1-8793-414d-bef1-601dc604a83d",
   "metadata": {},
   "outputs": [],
   "source": [
    "import numpy as np\n",
    "import numpy.ma as ma\n",
    "import pandas as pd\n",
    "import tensorflow as tf\n",
    "import tabulate\n",
    "import matplotlib\n",
    "import math\n",
    "\n",
    "from tensorflow import keras\n",
    "from sklearn.preprocessing import StandardScaler, MinMaxScaler\n",
    "from sklearn.model_selection import train_test_split\n",
    "\n",
    "pd.set_option(\"display.precision\", 1)"
   ]
  },
  {
   "cell_type": "markdown",
   "id": "92d8e386-645e-44f7-a762-d8f5bd4b50a9",
   "metadata": {},
   "source": [
    "### **\\# 資料集來源: 自己**  "
   ]
  },
  {
   "cell_type": "code",
   "execution_count": 2,
   "id": "4a43ca2c-c8c7-4a06-8b68-8578c16c0351",
   "metadata": {},
   "outputs": [
    {
     "data": {
      "text/html": [
       "<style type=\"text/css\">\n",
       "#T_eca99 th {\n",
       "  text-align: left;\n",
       "}\n",
       "#T_eca99_row0_col0, #T_eca99_row0_col1, #T_eca99_row0_col2, #T_eca99_row0_col3, #T_eca99_row0_col4, #T_eca99_row0_col5, #T_eca99_row0_col6, #T_eca99_row0_col7, #T_eca99_row0_col8, #T_eca99_row0_col9, #T_eca99_row0_col10, #T_eca99_row1_col0, #T_eca99_row1_col1, #T_eca99_row1_col2, #T_eca99_row1_col3, #T_eca99_row1_col4, #T_eca99_row1_col5, #T_eca99_row1_col6, #T_eca99_row1_col7, #T_eca99_row1_col8, #T_eca99_row1_col9, #T_eca99_row1_col10, #T_eca99_row2_col0, #T_eca99_row2_col1, #T_eca99_row2_col2, #T_eca99_row2_col3, #T_eca99_row2_col4, #T_eca99_row2_col5, #T_eca99_row2_col6, #T_eca99_row2_col7, #T_eca99_row2_col8, #T_eca99_row2_col9, #T_eca99_row2_col10, #T_eca99_row3_col0, #T_eca99_row3_col1, #T_eca99_row3_col2, #T_eca99_row3_col3, #T_eca99_row3_col4, #T_eca99_row3_col5, #T_eca99_row3_col6, #T_eca99_row3_col7, #T_eca99_row3_col8, #T_eca99_row3_col9, #T_eca99_row3_col10, #T_eca99_row4_col0, #T_eca99_row4_col1, #T_eca99_row4_col2, #T_eca99_row4_col3, #T_eca99_row4_col4, #T_eca99_row4_col5, #T_eca99_row4_col6, #T_eca99_row4_col7, #T_eca99_row4_col8, #T_eca99_row4_col9, #T_eca99_row4_col10, #T_eca99_row5_col0, #T_eca99_row5_col1, #T_eca99_row5_col2, #T_eca99_row5_col3, #T_eca99_row5_col4, #T_eca99_row5_col5, #T_eca99_row5_col6, #T_eca99_row5_col7, #T_eca99_row5_col8, #T_eca99_row5_col9, #T_eca99_row5_col10, #T_eca99_row6_col0, #T_eca99_row6_col1, #T_eca99_row6_col2, #T_eca99_row6_col3, #T_eca99_row6_col4, #T_eca99_row6_col5, #T_eca99_row6_col6, #T_eca99_row6_col7, #T_eca99_row6_col8, #T_eca99_row6_col9, #T_eca99_row6_col10, #T_eca99_row7_col0, #T_eca99_row7_col1, #T_eca99_row7_col2, #T_eca99_row7_col3, #T_eca99_row7_col4, #T_eca99_row7_col5, #T_eca99_row7_col6, #T_eca99_row7_col7, #T_eca99_row7_col8, #T_eca99_row7_col9, #T_eca99_row7_col10, #T_eca99_row8_col0, #T_eca99_row8_col1, #T_eca99_row8_col2, #T_eca99_row8_col3, #T_eca99_row8_col4, #T_eca99_row8_col5, #T_eca99_row8_col6, #T_eca99_row8_col7, #T_eca99_row8_col8, #T_eca99_row8_col9, #T_eca99_row8_col10 {\n",
       "  text-align: left;\n",
       "}\n",
       "</style>\n",
       "<table id=\"T_eca99\">\n",
       "  <thead>\n",
       "    <tr>\n",
       "      <th class=\"blank level0\" >&nbsp;</th>\n",
       "      <th id=\"T_eca99_level0_col0\" class=\"col_heading level0 col0\" >ID</th>\n",
       "      <th id=\"T_eca99_level0_col1\" class=\"col_heading level0 col1\" >電影名稱</th>\n",
       "      <th id=\"T_eca99_level0_col2\" class=\"col_heading level0 col2\" >類別</th>\n",
       "      <th id=\"T_eca99_level0_col3\" class=\"col_heading level0 col3\" >user1</th>\n",
       "      <th id=\"T_eca99_level0_col4\" class=\"col_heading level0 col4\" >user2</th>\n",
       "      <th id=\"T_eca99_level0_col5\" class=\"col_heading level0 col5\" >user3</th>\n",
       "      <th id=\"T_eca99_level0_col6\" class=\"col_heading level0 col6\" >user4</th>\n",
       "      <th id=\"T_eca99_level0_col7\" class=\"col_heading level0 col7\" >user5</th>\n",
       "      <th id=\"T_eca99_level0_col8\" class=\"col_heading level0 col8\" >x1\n",
       "(comedy)</th>\n",
       "      <th id=\"T_eca99_level0_col9\" class=\"col_heading level0 col9\" >x2\n",
       "(Animation)</th>\n",
       "      <th id=\"T_eca99_level0_col10\" class=\"col_heading level0 col10\" >x3\n",
       "(Science fiction)</th>\n",
       "    </tr>\n",
       "  </thead>\n",
       "  <tbody>\n",
       "    <tr>\n",
       "      <th id=\"T_eca99_level0_row0\" class=\"row_heading level0 row0\" >0</th>\n",
       "      <td id=\"T_eca99_row0_col0\" class=\"data row0 col0\" >1</td>\n",
       "      <td id=\"T_eca99_row0_col1\" class=\"data row0 col1\" >讓子彈飛</td>\n",
       "      <td id=\"T_eca99_row0_col2\" class=\"data row0 col2\" >comedy</td>\n",
       "      <td id=\"T_eca99_row0_col3\" class=\"data row0 col3\" >5</td>\n",
       "      <td id=\"T_eca99_row0_col4\" class=\"data row0 col4\" >3</td>\n",
       "      <td id=\"T_eca99_row0_col5\" class=\"data row0 col5\" >1</td>\n",
       "      <td id=\"T_eca99_row0_col6\" class=\"data row0 col6\" >2</td>\n",
       "      <td id=\"T_eca99_row0_col7\" class=\"data row0 col7\" >1</td>\n",
       "      <td id=\"T_eca99_row0_col8\" class=\"data row0 col8\" >0.900000</td>\n",
       "      <td id=\"T_eca99_row0_col9\" class=\"data row0 col9\" >0.100000</td>\n",
       "      <td id=\"T_eca99_row0_col10\" class=\"data row0 col10\" >0.100000</td>\n",
       "    </tr>\n",
       "    <tr>\n",
       "      <th id=\"T_eca99_level0_row1\" class=\"row_heading level0 row1\" >1</th>\n",
       "      <td id=\"T_eca99_row1_col0\" class=\"data row1 col0\" >2</td>\n",
       "      <td id=\"T_eca99_row1_col1\" class=\"data row1 col1\" >九品芝麻官</td>\n",
       "      <td id=\"T_eca99_row1_col2\" class=\"data row1 col2\" >comedy</td>\n",
       "      <td id=\"T_eca99_row1_col3\" class=\"data row1 col3\" >4</td>\n",
       "      <td id=\"T_eca99_row1_col4\" class=\"data row1 col4\" >3</td>\n",
       "      <td id=\"T_eca99_row1_col5\" class=\"data row1 col5\" >1</td>\n",
       "      <td id=\"T_eca99_row1_col6\" class=\"data row1 col6\" >2</td>\n",
       "      <td id=\"T_eca99_row1_col7\" class=\"data row1 col7\" >1</td>\n",
       "      <td id=\"T_eca99_row1_col8\" class=\"data row1 col8\" >0.900000</td>\n",
       "      <td id=\"T_eca99_row1_col9\" class=\"data row1 col9\" >0.100000</td>\n",
       "      <td id=\"T_eca99_row1_col10\" class=\"data row1 col10\" >0.100000</td>\n",
       "    </tr>\n",
       "    <tr>\n",
       "      <th id=\"T_eca99_level0_row2\" class=\"row_heading level0 row2\" >2</th>\n",
       "      <td id=\"T_eca99_row2_col0\" class=\"data row2 col0\" >3</td>\n",
       "      <td id=\"T_eca99_row2_col1\" class=\"data row2 col1\" >殭屍100</td>\n",
       "      <td id=\"T_eca99_row2_col2\" class=\"data row2 col2\" >Animation</td>\n",
       "      <td id=\"T_eca99_row2_col3\" class=\"data row2 col3\" >1</td>\n",
       "      <td id=\"T_eca99_row2_col4\" class=\"data row2 col4\" >2</td>\n",
       "      <td id=\"T_eca99_row2_col5\" class=\"data row2 col5\" >4</td>\n",
       "      <td id=\"T_eca99_row2_col6\" class=\"data row2 col6\" >3</td>\n",
       "      <td id=\"T_eca99_row2_col7\" class=\"data row2 col7\" >4</td>\n",
       "      <td id=\"T_eca99_row2_col8\" class=\"data row2 col8\" >0.700000</td>\n",
       "      <td id=\"T_eca99_row2_col9\" class=\"data row2 col9\" >0.900000</td>\n",
       "      <td id=\"T_eca99_row2_col10\" class=\"data row2 col10\" >0.100000</td>\n",
       "    </tr>\n",
       "    <tr>\n",
       "      <th id=\"T_eca99_level0_row3\" class=\"row_heading level0 row3\" >3</th>\n",
       "      <td id=\"T_eca99_row3_col0\" class=\"data row3 col0\" >4</td>\n",
       "      <td id=\"T_eca99_row3_col1\" class=\"data row3 col1\" >奧術</td>\n",
       "      <td id=\"T_eca99_row3_col2\" class=\"data row3 col2\" >Animation</td>\n",
       "      <td id=\"T_eca99_row3_col3\" class=\"data row3 col3\" >1</td>\n",
       "      <td id=\"T_eca99_row3_col4\" class=\"data row3 col4\" >2</td>\n",
       "      <td id=\"T_eca99_row3_col5\" class=\"data row3 col5\" >4</td>\n",
       "      <td id=\"T_eca99_row3_col6\" class=\"data row3 col6\" >3</td>\n",
       "      <td id=\"T_eca99_row3_col7\" class=\"data row3 col7\" >4</td>\n",
       "      <td id=\"T_eca99_row3_col8\" class=\"data row3 col8\" >0.300000</td>\n",
       "      <td id=\"T_eca99_row3_col9\" class=\"data row3 col9\" >0.900000</td>\n",
       "      <td id=\"T_eca99_row3_col10\" class=\"data row3 col10\" >0.500000</td>\n",
       "    </tr>\n",
       "    <tr>\n",
       "      <th id=\"T_eca99_level0_row4\" class=\"row_heading level0 row4\" >4</th>\n",
       "      <td id=\"T_eca99_row4_col0\" class=\"data row4 col0\" >5</td>\n",
       "      <td id=\"T_eca99_row4_col1\" class=\"data row4 col1\" >獵巫行動</td>\n",
       "      <td id=\"T_eca99_row4_col2\" class=\"data row4 col2\" >Science fiction</td>\n",
       "      <td id=\"T_eca99_row4_col3\" class=\"data row4 col3\" >1</td>\n",
       "      <td id=\"T_eca99_row4_col4\" class=\"data row4 col4\" >5</td>\n",
       "      <td id=\"T_eca99_row4_col5\" class=\"data row4 col5\" >2</td>\n",
       "      <td id=\"T_eca99_row4_col6\" class=\"data row4 col6\" >1</td>\n",
       "      <td id=\"T_eca99_row4_col7\" class=\"data row4 col7\" >3</td>\n",
       "      <td id=\"T_eca99_row4_col8\" class=\"data row4 col8\" >0.100000</td>\n",
       "      <td id=\"T_eca99_row4_col9\" class=\"data row4 col9\" >0.100000</td>\n",
       "      <td id=\"T_eca99_row4_col10\" class=\"data row4 col10\" >0.900000</td>\n",
       "    </tr>\n",
       "    <tr>\n",
       "      <th id=\"T_eca99_level0_row5\" class=\"row_heading level0 row5\" >5</th>\n",
       "      <td id=\"T_eca99_row5_col0\" class=\"data row5 col0\" >6</td>\n",
       "      <td id=\"T_eca99_row5_col1\" class=\"data row5 col1\" >侏儸紀公園</td>\n",
       "      <td id=\"T_eca99_row5_col2\" class=\"data row5 col2\" >Science fiction</td>\n",
       "      <td id=\"T_eca99_row5_col3\" class=\"data row5 col3\" >1</td>\n",
       "      <td id=\"T_eca99_row5_col4\" class=\"data row5 col4\" >5</td>\n",
       "      <td id=\"T_eca99_row5_col5\" class=\"data row5 col5\" >2</td>\n",
       "      <td id=\"T_eca99_row5_col6\" class=\"data row5 col6\" >1</td>\n",
       "      <td id=\"T_eca99_row5_col7\" class=\"data row5 col7\" >3</td>\n",
       "      <td id=\"T_eca99_row5_col8\" class=\"data row5 col8\" >0.100000</td>\n",
       "      <td id=\"T_eca99_row5_col9\" class=\"data row5 col9\" >0.500000</td>\n",
       "      <td id=\"T_eca99_row5_col10\" class=\"data row5 col10\" >0.900000</td>\n",
       "    </tr>\n",
       "    <tr>\n",
       "      <th id=\"T_eca99_level0_row6\" class=\"row_heading level0 row6\" >6</th>\n",
       "      <td id=\"T_eca99_row6_col0\" class=\"data row6 col0\" >7</td>\n",
       "      <td id=\"T_eca99_row6_col1\" class=\"data row6 col1\" >世界異戰</td>\n",
       "      <td id=\"T_eca99_row6_col2\" class=\"data row6 col2\" >Science fiction</td>\n",
       "      <td id=\"T_eca99_row6_col3\" class=\"data row6 col3\" >1</td>\n",
       "      <td id=\"T_eca99_row6_col4\" class=\"data row6 col4\" >5</td>\n",
       "      <td id=\"T_eca99_row6_col5\" class=\"data row6 col5\" >2</td>\n",
       "      <td id=\"T_eca99_row6_col6\" class=\"data row6 col6\" >1</td>\n",
       "      <td id=\"T_eca99_row6_col7\" class=\"data row6 col7\" >3</td>\n",
       "      <td id=\"T_eca99_row6_col8\" class=\"data row6 col8\" >0.100000</td>\n",
       "      <td id=\"T_eca99_row6_col9\" class=\"data row6 col9\" >0.100000</td>\n",
       "      <td id=\"T_eca99_row6_col10\" class=\"data row6 col10\" >0.900000</td>\n",
       "    </tr>\n",
       "    <tr>\n",
       "      <th id=\"T_eca99_level0_row7\" class=\"row_heading level0 row7\" >7</th>\n",
       "      <td id=\"T_eca99_row7_col0\" class=\"data row7 col0\" >8</td>\n",
       "      <td id=\"T_eca99_row7_col1\" class=\"data row7 col1\" >終末女武神</td>\n",
       "      <td id=\"T_eca99_row7_col2\" class=\"data row7 col2\" >Animation</td>\n",
       "      <td id=\"T_eca99_row7_col3\" class=\"data row7 col3\" >1</td>\n",
       "      <td id=\"T_eca99_row7_col4\" class=\"data row7 col4\" >2</td>\n",
       "      <td id=\"T_eca99_row7_col5\" class=\"data row7 col5\" >4</td>\n",
       "      <td id=\"T_eca99_row7_col6\" class=\"data row7 col6\" >3</td>\n",
       "      <td id=\"T_eca99_row7_col7\" class=\"data row7 col7\" >4</td>\n",
       "      <td id=\"T_eca99_row7_col8\" class=\"data row7 col8\" >0.200000</td>\n",
       "      <td id=\"T_eca99_row7_col9\" class=\"data row7 col9\" >0.900000</td>\n",
       "      <td id=\"T_eca99_row7_col10\" class=\"data row7 col10\" >0.100000</td>\n",
       "    </tr>\n",
       "    <tr>\n",
       "      <th id=\"T_eca99_level0_row8\" class=\"row_heading level0 row8\" >8</th>\n",
       "      <td id=\"T_eca99_row8_col0\" class=\"data row8 col0\" >9</td>\n",
       "      <td id=\"T_eca99_row8_col1\" class=\"data row8 col1\" >航海王</td>\n",
       "      <td id=\"T_eca99_row8_col2\" class=\"data row8 col2\" >Animation</td>\n",
       "      <td id=\"T_eca99_row8_col3\" class=\"data row8 col3\" >1</td>\n",
       "      <td id=\"T_eca99_row8_col4\" class=\"data row8 col4\" >2</td>\n",
       "      <td id=\"T_eca99_row8_col5\" class=\"data row8 col5\" >4</td>\n",
       "      <td id=\"T_eca99_row8_col6\" class=\"data row8 col6\" >3</td>\n",
       "      <td id=\"T_eca99_row8_col7\" class=\"data row8 col7\" >4</td>\n",
       "      <td id=\"T_eca99_row8_col8\" class=\"data row8 col8\" >0.500000</td>\n",
       "      <td id=\"T_eca99_row8_col9\" class=\"data row8 col9\" >0.900000</td>\n",
       "      <td id=\"T_eca99_row8_col10\" class=\"data row8 col10\" >0.100000</td>\n",
       "    </tr>\n",
       "  </tbody>\n",
       "</table>\n"
      ],
      "text/plain": [
       "<pandas.io.formats.style.Styler at 0x20162d72050>"
      ]
     },
     "metadata": {},
     "output_type": "display_data"
    }
   ],
   "source": [
    "df = pd.read_excel(\"data.xlsx\")\n",
    "left_aligned_df = df.style.set_properties(**{'text-align': 'left'})\n",
    "left_aligned_df = left_aligned_df.set_table_styles([dict(selector = 'th', props=[('text-align', 'left')])])\n",
    "display(left_aligned_df)"
   ]
  },
  {
   "cell_type": "markdown",
   "id": "85ced3bc-586f-42a5-9312-5739e67f23b9",
   "metadata": {},
   "source": [
    "--------------------------------------------"
   ]
  },
  {
   "cell_type": "markdown",
   "id": "3758541e-1af1-402b-84f1-e217452c6246",
   "metadata": {},
   "source": [
    "### **\\#根據上方資料，可得出以下資訊用於計算cost function:**\n",
    "##### **觀眾數量 : num_users = 5**\n",
    "##### **電影數量 : num_movies = 9**\n",
    "##### **類別數量 : num_features = 3**\n",
    "##### **$\\mathbf{X}$ 代表每部電影的類別分數，例如【讓子彈飛】: $\\mathbf{x}^{(1)}$=[0.90, 0.1, 0.1]**\n",
    "##### **$\\mathbf{Y}$ 代表每部電影對應於各使用者的評分，例如【奧術】: $\\mathbf{y}^{(4)}$=[1, 2, 4, 3, 4]**\n",
    "##### **$\\mathbf{R}$ = $r$ (num_movies, num_users)，代表user是否評分過該電影，例如【讓子彈飛】: $r(1,)$=[1, 1, 1, 1, 1]**\n",
    "##### **$\\mathbf{W}$ = $w$ (num_users, num_features)，為亂數產生，需透過訓練校正**\n",
    "##### **$\\mathbf{b}$ = $b$ (1, num_users)，為亂數產生，，需透過訓練校正**"
   ]
  },
  {
   "cell_type": "code",
   "execution_count": 3,
   "id": "c3c9ed75-53e9-4498-ad99-59090824ce13",
   "metadata": {},
   "outputs": [],
   "source": [
    "import random\n",
    "\n",
    "num_users=5\n",
    "num_movies=9\n",
    "num_features=3\n",
    "X=[]\n",
    "Y=[]\n",
    "R=[]\n",
    "W=[]\n",
    "b=[]\n",
    "\n",
    "df_numpy=df.to_numpy()\n",
    "for i in range(num_movies):\n",
    "    X.append([])\n",
    "    Y.append([])\n",
    "    R.append([])\n",
    "    for j in range(11):\n",
    "        if j >=3 and j <=7:\n",
    "            Y[i].append(float(df_numpy[i,j]))\n",
    "            if df_numpy[i,j]>0:\n",
    "                R[i].append(1.0)\n",
    "            else:\n",
    "                R[i].append(0.0)\n",
    "        if j>=8 and j<11:\n",
    "            X[i].append(df_numpy[i,j])\n",
    "b.append([])\n",
    "for i in range(num_users):\n",
    "    W.append([])\n",
    "    b[0].append(random.uniform(-10,10))\n",
    "    for j in range(num_features):\n",
    "        W[i].append(random.uniform(-10,10))\n",
    "        "
   ]
  },
  {
   "cell_type": "code",
   "execution_count": 4,
   "id": "0080dd44-a168-4a24-8b9e-e73ed54653b1",
   "metadata": {},
   "outputs": [
    {
     "name": "stdout",
     "output_type": "stream",
     "text": [
      "所有用戶對於第一部電影的平均評價:2.4顆星\n"
     ]
    }
   ],
   "source": [
    "sum=0\n",
    "for j in range(num_users):\n",
    "    if R[0][j]==1:\n",
    "        sum+=Y[0][j]\n",
    "tsmean = sum/num_users\n",
    "print(f\"所有用戶對於第一部電影的平均評價:{tsmean:0.1f}顆星\" )"
   ]
  },
  {
   "cell_type": "markdown",
   "id": "c2a78cd9-697d-458d-a1e1-89aba5bf648b",
   "metadata": {},
   "source": [
    "-------------------------------------------------------------\n",
    "### **\\#定義 Cost function**\n",
    "<a name=\"4.1\"></a>\n",
    "#### **collaborative filtering cost function**\n",
    "$$J({\\mathbf{x}^{(0)},...,\\mathbf{x}^{(n_m-1)},\\mathbf{w}^{(0)},b^{(0)},...,\\mathbf{w}^{(n_u-1)},b^{(n_u-1)}})= \\left[ \\frac{1}{2}\\sum_{(i,j):r(i,j)=1}(\\mathbf{w}^{(j)} \\cdot \\mathbf{x}^{(i)} + b^{(j)} - y^{(i,j)})^2 \\right]\n",
    "+ \\underbrace{\\left[\n",
    "\\frac{\\lambda}{2}\n",
    "\\sum_{j=0}^{n_u-1}\\sum_{k=0}^{n-1}(\\mathbf{w}^{(j)}_k)^2\n",
    "+ \\frac{\\lambda}{2}\\sum_{i=0}^{n_m-1}\\sum_{k=0}^{n-1}(\\mathbf{x}_k^{(i)})^2\n",
    "\\right]}_{regularization}\n",
    "\\tag{1}$$\n",
    "**The first summation in (1) is \"for all $i$, $j$ where $r(i,j)$ equals $1$\" and could be written:**\n",
    "\n",
    "$$\n",
    "= \\left[ \\frac{1}{2}\\sum_{j=0}^{n_u-1} \\sum_{i=0}^{n_m-1}r(i,j)*(\\mathbf{w}^{(j)} \\cdot \\mathbf{x}^{(i)} + b^{(j)} - y^{(i,j)})^2 \\right]\n",
    "+\\text{regularization}\n",
    "$$"
   ]
  },
  {
   "cell_type": "code",
   "execution_count": 5,
   "id": "5c481d61-5556-4079-adca-1172915f4275",
   "metadata": {},
   "outputs": [],
   "source": [
    "def cofi_cost_func(X, W, b, Y, R, lambda_):\n",
    "    J = 0 \n",
    "    for i in range(num_users):\n",
    "        w=W[i][:]\n",
    "        for k in range(num_movies):\n",
    "            x=X[k][:]\n",
    "            y=Y[k][i]\n",
    "            r=R[k][i]\n",
    "            J += np.square(r * (np.dot(w,x) + b[0][i] - y ) )\n",
    "        J +=lambda_* (np.sum(np.square(W)) + np.sum(np.square(X)))\n",
    "    J=J/2         \n",
    "    return J"
   ]
  },
  {
   "cell_type": "code",
   "execution_count": 6,
   "id": "a5010330-6a26-4dbd-89e4-cc460593ba36",
   "metadata": {},
   "outputs": [
    {
     "name": "stdout",
     "output_type": "stream",
     "text": [
      "Cost (with regularization): 3812.80\n"
     ]
    }
   ],
   "source": [
    "# Evaluate cost function with regularization \n",
    "J = cofi_cost_func(X, W, b, Y, R, 1.5);\n",
    "print(f\"Cost (with regularization): {J:0.2f}\")"
   ]
  },
  {
   "cell_type": "markdown",
   "id": "7acefd11-bfaa-44d5-b359-494fd0dbca37",
   "metadata": {},
   "source": [
    "#### **下面這是Tensorflow提供的計算方法**"
   ]
  },
  {
   "cell_type": "code",
   "execution_count": 7,
   "id": "91e90c95-87ae-47bc-ad82-13389f3a6bd5",
   "metadata": {},
   "outputs": [],
   "source": [
    "def cofi_cost_func_v(X, W, b, Y, R, lambda_):\n",
    "    j = (tf.linalg.matmul(X, tf.transpose(W)) + b - Y)*R\n",
    "    J = 0.5 * tf.reduce_sum(j**2) + (lambda_/2) * (tf.reduce_sum(X**2) + tf.reduce_sum(W**2))\n",
    "    return J"
   ]
  },
  {
   "cell_type": "markdown",
   "id": "b18140ea-6c13-4fda-bd83-3ea10279f41c",
   "metadata": {},
   "source": [
    "------------------------------\n",
    "# **開始模擬**\n",
    "### **1.假設有一位新用戶加入，先將num_users+1**"
   ]
  },
  {
   "cell_type": "code",
   "execution_count": 8,
   "id": "1a787d0c-39f2-41dd-bd84-2d9af983c390",
   "metadata": {},
   "outputs": [],
   "source": [
    "# 亂數產生 W、b\n",
    "tf.random.set_seed(1234) # for consistent results\n",
    "W = tf.Variable(tf.random.normal((num_users+1,  num_features),dtype=tf.float64),  name='W')\n",
    "b = tf.Variable(tf.random.normal((1,num_users+1),dtype=tf.float64) ,  name='b')"
   ]
  },
  {
   "cell_type": "markdown",
   "id": "b45c265e-2891-455b-972c-60f282a2aa2f",
   "metadata": {},
   "source": [
    "### **2.將該用戶目前對每部電影的評分資訊，新增至Y、R中**\n",
    "  \n",
    "####    **\\#假設他已將【奧術】評價5分，【侏儸紀】3分，【九品芝麻官】1分，其他電影尚未觀看=0分**"
   ]
  },
  {
   "cell_type": "code",
   "execution_count": 9,
   "id": "446afff7-bea0-4448-b8a6-3c8461a9dec4",
   "metadata": {},
   "outputs": [],
   "source": [
    "Y[1].append(1.0)\n",
    "Y[3].append(5.0)\n",
    "Y[5].append(3.0)\n",
    "\n",
    "#其他尚未觀看都評為0分\n",
    "for i in range(num_movies):\n",
    "    if i not in(1,3,5):\n",
    "        Y[i].append(0.0)\n",
    "        R[i].append(0.0)\n",
    "    else:\n",
    "        R[i].append(1.0)"
   ]
  },
  {
   "cell_type": "code",
   "execution_count": 10,
   "id": "de199815-4076-49ca-acff-4140b358747b",
   "metadata": {},
   "outputs": [],
   "source": [
    "#正規化Y\n",
    "Y_mean=[]\n",
    "minY=min(map(min, Y))\n",
    "maxY=max(map(max, Y))\n",
    "for i in range(num_movies):\n",
    "    mean=0\n",
    "    for j in range(num_users):\n",
    "        Y[i][j]=(Y[i][j]-minY)/(maxY-minY)\n",
    "        mean+=Y[i][j]\n",
    "    Y_mean.append([mean/num_users])"
   ]
  },
  {
   "cell_type": "markdown",
   "id": "db488db8-71b8-48af-b3f5-801e07eba417",
   "metadata": {},
   "source": [
    "### **3.開始訓練**"
   ]
  },
  {
   "cell_type": "code",
   "execution_count": 11,
   "id": "9df83f84-72d8-4c2d-8009-224bdcd3c839",
   "metadata": {},
   "outputs": [
    {
     "name": "stdout",
     "output_type": "stream",
     "text": [
      "Training loss at iteration 0: 105.8\n",
      "Training loss at iteration 20: 10.1\n",
      "Training loss at iteration 40: 5.7\n",
      "Training loss at iteration 60: 3.9\n",
      "Training loss at iteration 80: 3.5\n",
      "Training loss at iteration 100: 3.4\n",
      "Training loss at iteration 120: 3.4\n"
     ]
    }
   ],
   "source": [
    "X = tf.Variable(tf.convert_to_tensor(X, dtype=tf.float64),  name='X')\n",
    "# Instantiate an optimizer.\n",
    "optimizer = keras.optimizers.Adam(learning_rate=1e-1)\n",
    "\n",
    "iterations=140\n",
    "lambda_=1\n",
    "for iter in range(iterations):\n",
    "    # Use TensorFlow’s GradientTape\n",
    "    # to record the operations used to compute the cost \n",
    "    with tf.GradientTape() as tape:\n",
    "        # Compute the cost (forward pass included in cost)\n",
    "        cost_value = cofi_cost_func_v(X, W, b, Y, R, lambda_)\n",
    "    \n",
    "    cost_value=tf.convert_to_tensor(cost_value,dtype=tf.float64)\n",
    "    # Use the gradient tape to automatically retrieve\n",
    "    # the gradients of the trainable variables with respect to the loss\n",
    "    grads = tape.gradient(cost_value, [X,W,b] ,unconnected_gradients=tf.UnconnectedGradients.ZERO)\n",
    "    # Run one step of gradient descent by updating\n",
    "    # the value of the variables to minimize the loss.\n",
    "    optimizer.apply_gradients(zip(grads, [X,W,b]) )\n",
    "\n",
    "    # Log periodically.\n",
    "    if iter % 20 == 0:\n",
    "        print(f\"Training loss at iteration {iter}: {cost_value:0.1f}\")"
   ]
  },
  {
   "cell_type": "markdown",
   "id": "32d53246-1e5e-4077-93b1-c9f83316f544",
   "metadata": {},
   "source": [
    "### **4.推薦**\n",
    "#### **訓練完可得參數 W、b，還有類別分數X**\n",
    "#### **藉此可得出矩陣p，大小為(9x6)，代表每部電影對每位使用者的推薦程度，數值越高表示越適合該用戶**"
   ]
  },
  {
   "cell_type": "code",
   "execution_count": 12,
   "id": "c7e1c5c0-e0bb-4eb7-a87c-99bf822dc398",
   "metadata": {},
   "outputs": [
    {
     "name": "stdout",
     "output_type": "stream",
     "text": [
      "[[0.92223045 1.15511704 0.93031895 0.87261235 0.99794646 3.13618808]\n",
      " [1.07583134 1.19625804 0.69661854 0.75830814 0.7703216  2.13748997]\n",
      " [0.86791026 1.18376756 1.14156697 1.00100087 1.20737294 3.85042271]\n",
      " [0.6627894  1.09820356 1.34653679 1.07946185 1.40604994 4.86469037]\n",
      " [0.84642914 1.1327141  1.00022807 0.89560184 1.06894056 3.47478946]\n",
      " [0.84544631 1.13243386 1.00112789 0.89589402 1.06986561 3.4789893 ]\n",
      " [0.84642914 1.1327141  1.00022807 0.89560184 1.06894056 3.47478946]\n",
      " [0.86763798 1.18362589 1.14185667 1.00112435 1.20765377 3.85167843]\n",
      " [0.86782746 1.18373045 1.14165129 1.00103448 1.20745635 3.85078965]]\n"
     ]
    }
   ],
   "source": [
    "p=np.matmul(X.numpy(), np.transpose(W.numpy())) + b.numpy()\n",
    "p=p+Y_mean\n",
    "print(p)"
   ]
  },
  {
   "cell_type": "markdown",
   "id": "8e0f724c-c6e1-44ba-bd44-84ba025b66de",
   "metadata": {},
   "source": [
    "-----------------------\n",
    "### **5.印證結果可得 Animation(動畫)較適合優先推薦給該用戶**"
   ]
  },
  {
   "cell_type": "code",
   "execution_count": 13,
   "id": "728d6753-e1a7-4add-bccc-b709323b7797",
   "metadata": {},
   "outputs": [
    {
     "data": {
      "text/html": [
       "<div>\n",
       "<style scoped>\n",
       "    .dataframe tbody tr th:only-of-type {\n",
       "        vertical-align: middle;\n",
       "    }\n",
       "\n",
       "    .dataframe tbody tr th {\n",
       "        vertical-align: top;\n",
       "    }\n",
       "\n",
       "    .dataframe thead th {\n",
       "        text-align: right;\n",
       "    }\n",
       "</style>\n",
       "<table border=\"1\" class=\"dataframe\">\n",
       "  <thead>\n",
       "    <tr style=\"text-align: right;\">\n",
       "      <th></th>\n",
       "      <th>ID</th>\n",
       "      <th>電影名稱</th>\n",
       "      <th>類別</th>\n",
       "      <th>推薦度(new)</th>\n",
       "    </tr>\n",
       "  </thead>\n",
       "  <tbody>\n",
       "    <tr>\n",
       "      <th>0</th>\n",
       "      <td>1</td>\n",
       "      <td>讓子彈飛</td>\n",
       "      <td>comedy</td>\n",
       "      <td>3.1</td>\n",
       "    </tr>\n",
       "    <tr>\n",
       "      <th>1</th>\n",
       "      <td>3</td>\n",
       "      <td>殭屍100</td>\n",
       "      <td>Animation</td>\n",
       "      <td>3.9</td>\n",
       "    </tr>\n",
       "    <tr>\n",
       "      <th>2</th>\n",
       "      <td>5</td>\n",
       "      <td>獵巫行動</td>\n",
       "      <td>Science fiction</td>\n",
       "      <td>3.5</td>\n",
       "    </tr>\n",
       "    <tr>\n",
       "      <th>3</th>\n",
       "      <td>7</td>\n",
       "      <td>世界異戰</td>\n",
       "      <td>Science fiction</td>\n",
       "      <td>3.5</td>\n",
       "    </tr>\n",
       "    <tr>\n",
       "      <th>4</th>\n",
       "      <td>8</td>\n",
       "      <td>終末女武神</td>\n",
       "      <td>Animation</td>\n",
       "      <td>3.9</td>\n",
       "    </tr>\n",
       "    <tr>\n",
       "      <th>5</th>\n",
       "      <td>9</td>\n",
       "      <td>航海王</td>\n",
       "      <td>Animation</td>\n",
       "      <td>3.9</td>\n",
       "    </tr>\n",
       "  </tbody>\n",
       "</table>\n",
       "</div>"
      ],
      "text/plain": [
       "   ID   電影名稱               類別 推薦度(new)\n",
       "0   1   讓子彈飛           comedy      3.1\n",
       "1   3  殭屍100        Animation      3.9\n",
       "2   5   獵巫行動  Science fiction      3.5\n",
       "3   7   世界異戰  Science fiction      3.5\n",
       "4   8  終末女武神        Animation      3.9\n",
       "5   9    航海王        Animation      3.9"
      ]
     },
     "execution_count": 13,
     "metadata": {},
     "output_type": "execute_result"
    }
   ],
   "source": [
    "results=[]\n",
    "for i in range(num_movies):\n",
    "    if i not in(1,3,5):\n",
    "        results.append([df['ID'][i],df['電影名稱'][i],df['類別'][i],str(round(p[i][5],1))])\n",
    "result_df=pd.DataFrame(results, columns=['ID', '電影名稱','類別','推薦度(new)'])\n",
    "result_df"
   ]
  },
  {
   "cell_type": "code",
   "execution_count": null,
   "id": "da1a73a6-8584-47ec-980c-8c88edaea193",
   "metadata": {},
   "outputs": [],
   "source": []
  }
 ],
 "metadata": {
  "kernelspec": {
   "display_name": "Python 3 (ipykernel)",
   "language": "python",
   "name": "python3"
  },
  "language_info": {
   "codemirror_mode": {
    "name": "ipython",
    "version": 3
   },
   "file_extension": ".py",
   "mimetype": "text/x-python",
   "name": "python",
   "nbconvert_exporter": "python",
   "pygments_lexer": "ipython3",
   "version": "3.11.5"
  }
 },
 "nbformat": 4,
 "nbformat_minor": 5
}
