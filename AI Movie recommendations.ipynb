{
 "cells": [
  {
   "cell_type": "markdown",
   "id": "52a3cded-f144-4b00-9b2a-6ca8dd07dbf6",
   "metadata": {},
   "source": [
    "此為Tensorflow課程之應用實作"
   ]
  },
  {
   "cell_type": "code",
   "execution_count": null,
   "id": "a8506ac1-8793-414d-bef1-601dc604a83d",
   "metadata": {},
   "outputs": [],
   "source": []
  }
 ],
 "metadata": {
  "kernelspec": {
   "display_name": "Python 3 (ipykernel)",
   "language": "python",
   "name": "python3"
  },
  "language_info": {
   "codemirror_mode": {
    "name": "ipython",
    "version": 3
   },
   "file_extension": ".py",
   "mimetype": "text/x-python",
   "name": "python",
   "nbconvert_exporter": "python",
   "pygments_lexer": "ipython3",
   "version": "3.11.5"
  }
 },
 "nbformat": 4,
 "nbformat_minor": 5
}
