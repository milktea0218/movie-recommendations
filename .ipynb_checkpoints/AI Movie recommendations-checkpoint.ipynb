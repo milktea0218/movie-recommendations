{
 "cells": [
  {
   "cell_type": "markdown",
   "id": "52a3cded-f144-4b00-9b2a-6ca8dd07dbf6",
   "metadata": {},
   "source": [
    "## 電影推薦實作"
   ]
  },
  {
   "cell_type": "code",
   "execution_count": 131,
   "id": "a8506ac1-8793-414d-bef1-601dc604a83d",
   "metadata": {},
   "outputs": [],
   "source": [
    "import numpy as np\n",
    "import numpy.ma as ma\n",
    "import pandas as pd\n",
    "import tensorflow as tf\n",
    "import tabulate\n",
    "import matplotlib\n",
    "\n",
    "from tensorflow import keras\n",
    "from sklearn.preprocessing import StandardScaler, MinMaxScaler\n",
    "from sklearn.model_selection import train_test_split\n",
    "\n",
    "pd.set_option(\"display.precision\", 1)"
   ]
  },
  {
   "cell_type": "markdown",
   "id": "92d8e386-645e-44f7-a762-d8f5bd4b50a9",
   "metadata": {},
   "source": [
    "### **\\# 資料集來源: 自己**  "
   ]
  },
  {
   "cell_type": "code",
   "execution_count": 132,
   "id": "4a43ca2c-c8c7-4a06-8b68-8578c16c0351",
   "metadata": {},
   "outputs": [
    {
     "data": {
      "text/html": [
       "<style type=\"text/css\">\n",
       "#T_2a427 th {\n",
       "  text-align: left;\n",
       "}\n",
       "#T_2a427_row0_col0, #T_2a427_row0_col1, #T_2a427_row0_col2, #T_2a427_row0_col3, #T_2a427_row0_col4, #T_2a427_row0_col5, #T_2a427_row0_col6, #T_2a427_row0_col7, #T_2a427_row0_col8, #T_2a427_row0_col9, #T_2a427_row0_col10, #T_2a427_row1_col0, #T_2a427_row1_col1, #T_2a427_row1_col2, #T_2a427_row1_col3, #T_2a427_row1_col4, #T_2a427_row1_col5, #T_2a427_row1_col6, #T_2a427_row1_col7, #T_2a427_row1_col8, #T_2a427_row1_col9, #T_2a427_row1_col10, #T_2a427_row2_col0, #T_2a427_row2_col1, #T_2a427_row2_col2, #T_2a427_row2_col3, #T_2a427_row2_col4, #T_2a427_row2_col5, #T_2a427_row2_col6, #T_2a427_row2_col7, #T_2a427_row2_col8, #T_2a427_row2_col9, #T_2a427_row2_col10, #T_2a427_row3_col0, #T_2a427_row3_col1, #T_2a427_row3_col2, #T_2a427_row3_col3, #T_2a427_row3_col4, #T_2a427_row3_col5, #T_2a427_row3_col6, #T_2a427_row3_col7, #T_2a427_row3_col8, #T_2a427_row3_col9, #T_2a427_row3_col10, #T_2a427_row4_col0, #T_2a427_row4_col1, #T_2a427_row4_col2, #T_2a427_row4_col3, #T_2a427_row4_col4, #T_2a427_row4_col5, #T_2a427_row4_col6, #T_2a427_row4_col7, #T_2a427_row4_col8, #T_2a427_row4_col9, #T_2a427_row4_col10, #T_2a427_row5_col0, #T_2a427_row5_col1, #T_2a427_row5_col2, #T_2a427_row5_col3, #T_2a427_row5_col4, #T_2a427_row5_col5, #T_2a427_row5_col6, #T_2a427_row5_col7, #T_2a427_row5_col8, #T_2a427_row5_col9, #T_2a427_row5_col10, #T_2a427_row6_col0, #T_2a427_row6_col1, #T_2a427_row6_col2, #T_2a427_row6_col3, #T_2a427_row6_col4, #T_2a427_row6_col5, #T_2a427_row6_col6, #T_2a427_row6_col7, #T_2a427_row6_col8, #T_2a427_row6_col9, #T_2a427_row6_col10, #T_2a427_row7_col0, #T_2a427_row7_col1, #T_2a427_row7_col2, #T_2a427_row7_col3, #T_2a427_row7_col4, #T_2a427_row7_col5, #T_2a427_row7_col6, #T_2a427_row7_col7, #T_2a427_row7_col8, #T_2a427_row7_col9, #T_2a427_row7_col10, #T_2a427_row8_col0, #T_2a427_row8_col1, #T_2a427_row8_col2, #T_2a427_row8_col3, #T_2a427_row8_col4, #T_2a427_row8_col5, #T_2a427_row8_col6, #T_2a427_row8_col7, #T_2a427_row8_col8, #T_2a427_row8_col9, #T_2a427_row8_col10 {\n",
       "  text-align: left;\n",
       "}\n",
       "</style>\n",
       "<table id=\"T_2a427\">\n",
       "  <thead>\n",
       "    <tr>\n",
       "      <th class=\"blank level0\" >&nbsp;</th>\n",
       "      <th id=\"T_2a427_level0_col0\" class=\"col_heading level0 col0\" >ID</th>\n",
       "      <th id=\"T_2a427_level0_col1\" class=\"col_heading level0 col1\" >電影名稱</th>\n",
       "      <th id=\"T_2a427_level0_col2\" class=\"col_heading level0 col2\" >類別</th>\n",
       "      <th id=\"T_2a427_level0_col3\" class=\"col_heading level0 col3\" >user1</th>\n",
       "      <th id=\"T_2a427_level0_col4\" class=\"col_heading level0 col4\" >user2</th>\n",
       "      <th id=\"T_2a427_level0_col5\" class=\"col_heading level0 col5\" >user3</th>\n",
       "      <th id=\"T_2a427_level0_col6\" class=\"col_heading level0 col6\" >user4</th>\n",
       "      <th id=\"T_2a427_level0_col7\" class=\"col_heading level0 col7\" >user5</th>\n",
       "      <th id=\"T_2a427_level0_col8\" class=\"col_heading level0 col8\" >x1\n",
       "(comedy)</th>\n",
       "      <th id=\"T_2a427_level0_col9\" class=\"col_heading level0 col9\" >x2\n",
       "(Animation)</th>\n",
       "      <th id=\"T_2a427_level0_col10\" class=\"col_heading level0 col10\" >x3\n",
       "(Science fiction)</th>\n",
       "    </tr>\n",
       "  </thead>\n",
       "  <tbody>\n",
       "    <tr>\n",
       "      <th id=\"T_2a427_level0_row0\" class=\"row_heading level0 row0\" >0</th>\n",
       "      <td id=\"T_2a427_row0_col0\" class=\"data row0 col0\" >1</td>\n",
       "      <td id=\"T_2a427_row0_col1\" class=\"data row0 col1\" >讓子彈飛</td>\n",
       "      <td id=\"T_2a427_row0_col2\" class=\"data row0 col2\" >comedy</td>\n",
       "      <td id=\"T_2a427_row0_col3\" class=\"data row0 col3\" >5</td>\n",
       "      <td id=\"T_2a427_row0_col4\" class=\"data row0 col4\" >3</td>\n",
       "      <td id=\"T_2a427_row0_col5\" class=\"data row0 col5\" >1</td>\n",
       "      <td id=\"T_2a427_row0_col6\" class=\"data row0 col6\" >2</td>\n",
       "      <td id=\"T_2a427_row0_col7\" class=\"data row0 col7\" >1</td>\n",
       "      <td id=\"T_2a427_row0_col8\" class=\"data row0 col8\" >0.900000</td>\n",
       "      <td id=\"T_2a427_row0_col9\" class=\"data row0 col9\" >0.100000</td>\n",
       "      <td id=\"T_2a427_row0_col10\" class=\"data row0 col10\" >0.100000</td>\n",
       "    </tr>\n",
       "    <tr>\n",
       "      <th id=\"T_2a427_level0_row1\" class=\"row_heading level0 row1\" >1</th>\n",
       "      <td id=\"T_2a427_row1_col0\" class=\"data row1 col0\" >2</td>\n",
       "      <td id=\"T_2a427_row1_col1\" class=\"data row1 col1\" >九品芝麻官</td>\n",
       "      <td id=\"T_2a427_row1_col2\" class=\"data row1 col2\" >comedy</td>\n",
       "      <td id=\"T_2a427_row1_col3\" class=\"data row1 col3\" >4</td>\n",
       "      <td id=\"T_2a427_row1_col4\" class=\"data row1 col4\" >3</td>\n",
       "      <td id=\"T_2a427_row1_col5\" class=\"data row1 col5\" >1</td>\n",
       "      <td id=\"T_2a427_row1_col6\" class=\"data row1 col6\" >2</td>\n",
       "      <td id=\"T_2a427_row1_col7\" class=\"data row1 col7\" >1</td>\n",
       "      <td id=\"T_2a427_row1_col8\" class=\"data row1 col8\" >0.900000</td>\n",
       "      <td id=\"T_2a427_row1_col9\" class=\"data row1 col9\" >0.100000</td>\n",
       "      <td id=\"T_2a427_row1_col10\" class=\"data row1 col10\" >0.100000</td>\n",
       "    </tr>\n",
       "    <tr>\n",
       "      <th id=\"T_2a427_level0_row2\" class=\"row_heading level0 row2\" >2</th>\n",
       "      <td id=\"T_2a427_row2_col0\" class=\"data row2 col0\" >3</td>\n",
       "      <td id=\"T_2a427_row2_col1\" class=\"data row2 col1\" >殭屍100</td>\n",
       "      <td id=\"T_2a427_row2_col2\" class=\"data row2 col2\" >Animation</td>\n",
       "      <td id=\"T_2a427_row2_col3\" class=\"data row2 col3\" >1</td>\n",
       "      <td id=\"T_2a427_row2_col4\" class=\"data row2 col4\" >2</td>\n",
       "      <td id=\"T_2a427_row2_col5\" class=\"data row2 col5\" >4</td>\n",
       "      <td id=\"T_2a427_row2_col6\" class=\"data row2 col6\" >3</td>\n",
       "      <td id=\"T_2a427_row2_col7\" class=\"data row2 col7\" >4</td>\n",
       "      <td id=\"T_2a427_row2_col8\" class=\"data row2 col8\" >0.700000</td>\n",
       "      <td id=\"T_2a427_row2_col9\" class=\"data row2 col9\" >0.900000</td>\n",
       "      <td id=\"T_2a427_row2_col10\" class=\"data row2 col10\" >0.100000</td>\n",
       "    </tr>\n",
       "    <tr>\n",
       "      <th id=\"T_2a427_level0_row3\" class=\"row_heading level0 row3\" >3</th>\n",
       "      <td id=\"T_2a427_row3_col0\" class=\"data row3 col0\" >4</td>\n",
       "      <td id=\"T_2a427_row3_col1\" class=\"data row3 col1\" >奧術</td>\n",
       "      <td id=\"T_2a427_row3_col2\" class=\"data row3 col2\" >Animation</td>\n",
       "      <td id=\"T_2a427_row3_col3\" class=\"data row3 col3\" >1</td>\n",
       "      <td id=\"T_2a427_row3_col4\" class=\"data row3 col4\" >2</td>\n",
       "      <td id=\"T_2a427_row3_col5\" class=\"data row3 col5\" >4</td>\n",
       "      <td id=\"T_2a427_row3_col6\" class=\"data row3 col6\" >3</td>\n",
       "      <td id=\"T_2a427_row3_col7\" class=\"data row3 col7\" >4</td>\n",
       "      <td id=\"T_2a427_row3_col8\" class=\"data row3 col8\" >0.300000</td>\n",
       "      <td id=\"T_2a427_row3_col9\" class=\"data row3 col9\" >0.900000</td>\n",
       "      <td id=\"T_2a427_row3_col10\" class=\"data row3 col10\" >0.500000</td>\n",
       "    </tr>\n",
       "    <tr>\n",
       "      <th id=\"T_2a427_level0_row4\" class=\"row_heading level0 row4\" >4</th>\n",
       "      <td id=\"T_2a427_row4_col0\" class=\"data row4 col0\" >5</td>\n",
       "      <td id=\"T_2a427_row4_col1\" class=\"data row4 col1\" >獵巫行動</td>\n",
       "      <td id=\"T_2a427_row4_col2\" class=\"data row4 col2\" >Science fiction</td>\n",
       "      <td id=\"T_2a427_row4_col3\" class=\"data row4 col3\" >1</td>\n",
       "      <td id=\"T_2a427_row4_col4\" class=\"data row4 col4\" >5</td>\n",
       "      <td id=\"T_2a427_row4_col5\" class=\"data row4 col5\" >2</td>\n",
       "      <td id=\"T_2a427_row4_col6\" class=\"data row4 col6\" >1</td>\n",
       "      <td id=\"T_2a427_row4_col7\" class=\"data row4 col7\" >3</td>\n",
       "      <td id=\"T_2a427_row4_col8\" class=\"data row4 col8\" >0.100000</td>\n",
       "      <td id=\"T_2a427_row4_col9\" class=\"data row4 col9\" >0.100000</td>\n",
       "      <td id=\"T_2a427_row4_col10\" class=\"data row4 col10\" >0.900000</td>\n",
       "    </tr>\n",
       "    <tr>\n",
       "      <th id=\"T_2a427_level0_row5\" class=\"row_heading level0 row5\" >5</th>\n",
       "      <td id=\"T_2a427_row5_col0\" class=\"data row5 col0\" >6</td>\n",
       "      <td id=\"T_2a427_row5_col1\" class=\"data row5 col1\" >侏儸紀公園</td>\n",
       "      <td id=\"T_2a427_row5_col2\" class=\"data row5 col2\" >Science fiction</td>\n",
       "      <td id=\"T_2a427_row5_col3\" class=\"data row5 col3\" >1</td>\n",
       "      <td id=\"T_2a427_row5_col4\" class=\"data row5 col4\" >5</td>\n",
       "      <td id=\"T_2a427_row5_col5\" class=\"data row5 col5\" >2</td>\n",
       "      <td id=\"T_2a427_row5_col6\" class=\"data row5 col6\" >1</td>\n",
       "      <td id=\"T_2a427_row5_col7\" class=\"data row5 col7\" >3</td>\n",
       "      <td id=\"T_2a427_row5_col8\" class=\"data row5 col8\" >0.100000</td>\n",
       "      <td id=\"T_2a427_row5_col9\" class=\"data row5 col9\" >0.500000</td>\n",
       "      <td id=\"T_2a427_row5_col10\" class=\"data row5 col10\" >0.900000</td>\n",
       "    </tr>\n",
       "    <tr>\n",
       "      <th id=\"T_2a427_level0_row6\" class=\"row_heading level0 row6\" >6</th>\n",
       "      <td id=\"T_2a427_row6_col0\" class=\"data row6 col0\" >7</td>\n",
       "      <td id=\"T_2a427_row6_col1\" class=\"data row6 col1\" >世界異戰</td>\n",
       "      <td id=\"T_2a427_row6_col2\" class=\"data row6 col2\" >Science fiction</td>\n",
       "      <td id=\"T_2a427_row6_col3\" class=\"data row6 col3\" >1</td>\n",
       "      <td id=\"T_2a427_row6_col4\" class=\"data row6 col4\" >5</td>\n",
       "      <td id=\"T_2a427_row6_col5\" class=\"data row6 col5\" >2</td>\n",
       "      <td id=\"T_2a427_row6_col6\" class=\"data row6 col6\" >1</td>\n",
       "      <td id=\"T_2a427_row6_col7\" class=\"data row6 col7\" >3</td>\n",
       "      <td id=\"T_2a427_row6_col8\" class=\"data row6 col8\" >0.100000</td>\n",
       "      <td id=\"T_2a427_row6_col9\" class=\"data row6 col9\" >0.100000</td>\n",
       "      <td id=\"T_2a427_row6_col10\" class=\"data row6 col10\" >0.900000</td>\n",
       "    </tr>\n",
       "    <tr>\n",
       "      <th id=\"T_2a427_level0_row7\" class=\"row_heading level0 row7\" >7</th>\n",
       "      <td id=\"T_2a427_row7_col0\" class=\"data row7 col0\" >8</td>\n",
       "      <td id=\"T_2a427_row7_col1\" class=\"data row7 col1\" >終末女武神</td>\n",
       "      <td id=\"T_2a427_row7_col2\" class=\"data row7 col2\" >Animation</td>\n",
       "      <td id=\"T_2a427_row7_col3\" class=\"data row7 col3\" >1</td>\n",
       "      <td id=\"T_2a427_row7_col4\" class=\"data row7 col4\" >2</td>\n",
       "      <td id=\"T_2a427_row7_col5\" class=\"data row7 col5\" >4</td>\n",
       "      <td id=\"T_2a427_row7_col6\" class=\"data row7 col6\" >3</td>\n",
       "      <td id=\"T_2a427_row7_col7\" class=\"data row7 col7\" >4</td>\n",
       "      <td id=\"T_2a427_row7_col8\" class=\"data row7 col8\" >0.200000</td>\n",
       "      <td id=\"T_2a427_row7_col9\" class=\"data row7 col9\" >0.900000</td>\n",
       "      <td id=\"T_2a427_row7_col10\" class=\"data row7 col10\" >0.100000</td>\n",
       "    </tr>\n",
       "    <tr>\n",
       "      <th id=\"T_2a427_level0_row8\" class=\"row_heading level0 row8\" >8</th>\n",
       "      <td id=\"T_2a427_row8_col0\" class=\"data row8 col0\" >9</td>\n",
       "      <td id=\"T_2a427_row8_col1\" class=\"data row8 col1\" >航海王</td>\n",
       "      <td id=\"T_2a427_row8_col2\" class=\"data row8 col2\" >Animation</td>\n",
       "      <td id=\"T_2a427_row8_col3\" class=\"data row8 col3\" >1</td>\n",
       "      <td id=\"T_2a427_row8_col4\" class=\"data row8 col4\" >2</td>\n",
       "      <td id=\"T_2a427_row8_col5\" class=\"data row8 col5\" >4</td>\n",
       "      <td id=\"T_2a427_row8_col6\" class=\"data row8 col6\" >3</td>\n",
       "      <td id=\"T_2a427_row8_col7\" class=\"data row8 col7\" >4</td>\n",
       "      <td id=\"T_2a427_row8_col8\" class=\"data row8 col8\" >0.500000</td>\n",
       "      <td id=\"T_2a427_row8_col9\" class=\"data row8 col9\" >0.900000</td>\n",
       "      <td id=\"T_2a427_row8_col10\" class=\"data row8 col10\" >0.100000</td>\n",
       "    </tr>\n",
       "  </tbody>\n",
       "</table>\n"
      ],
      "text/plain": [
       "<pandas.io.formats.style.Styler at 0x207308e0f50>"
      ]
     },
     "metadata": {},
     "output_type": "display_data"
    }
   ],
   "source": [
    "df = pd.read_excel(\"data.xlsx\")\n",
    "left_aligned_df = df.style.set_properties(**{'text-align': 'left'})\n",
    "left_aligned_df = left_aligned_df.set_table_styles([dict(selector = 'th', props=[('text-align', 'left')])])\n",
    "display(left_aligned_df)"
   ]
  },
  {
   "cell_type": "markdown",
   "id": "85ced3bc-586f-42a5-9312-5739e67f23b9",
   "metadata": {},
   "source": [
    "--------------------------------------------"
   ]
  },
  {
   "cell_type": "markdown",
   "id": "3758541e-1af1-402b-84f1-e217452c6246",
   "metadata": {},
   "source": [
    "### **\\#根據上方資料，可得出以下資訊用於計算cost function:**\n",
    "##### **觀眾數量 : num_users = 5**\n",
    "##### **電影數量 : num_movies = 9**\n",
    "##### **類別數量 : num_features = 3**\n",
    "##### **$\\mathbf{X}$ 代表每部電影的類別分數，例如【讓子彈飛】: $\\mathbf{x}^{(1)}$=[0.90, 0.1, 0.1]**\n",
    "##### **$\\mathbf{Y}$ 代表每部電影對應於各使用者的評分，例如【奧術】: $\\mathbf{y}^{(4)}$=[1, 2, 4, 3, 4]**\n",
    "##### **$\\mathbf{R}$ = $r$ (num_movies, num_users)，代表user是否評分過該電影，例如【讓子彈飛】: $r(1,)$=[1, 1, 1, 1, 1]**\n",
    "##### **$\\mathbf{W}$ = $w$ (num_users, num_features)，為亂數**\n",
    "##### **$\\mathbf{b}$ = $b$ (1, num_users)，為亂數**"
   ]
  },
  {
   "cell_type": "code",
   "execution_count": 133,
   "id": "c3c9ed75-53e9-4498-ad99-59090824ce13",
   "metadata": {},
   "outputs": [],
   "source": [
    "import random\n",
    "\n",
    "num_users=5\n",
    "num_movies=9\n",
    "num_features=3\n",
    "X=[]\n",
    "Y=[]\n",
    "R=[]\n",
    "W=[]\n",
    "b=[]\n",
    "\n",
    "df_numpy=df.to_numpy()\n",
    "for i in range(num_movies):\n",
    "    X.append([])\n",
    "    Y.append([])\n",
    "    R.append([])\n",
    "    for j in range(11):\n",
    "        if j >=3 and j <=7:\n",
    "            Y[i].append(float(df_numpy[i,j]))\n",
    "            if df_numpy[i,j]>0:\n",
    "                R[i].append(1.0)\n",
    "            else:\n",
    "                R[i].append(0.0)\n",
    "        if j>=8 and j<11:\n",
    "            X[i].append(df_numpy[i,j])\n",
    "b.append([])\n",
    "for i in range(num_users):\n",
    "    W.append([])\n",
    "    b[0].append(random.uniform(-10,10))\n",
    "    for j in range(num_features):\n",
    "        W[i].append(random.uniform(-10,10))\n",
    "        "
   ]
  },
  {
   "cell_type": "code",
   "execution_count": 134,
   "id": "0080dd44-a168-4a24-8b9e-e73ed54653b1",
   "metadata": {},
   "outputs": [
    {
     "name": "stdout",
     "output_type": "stream",
     "text": [
      "對於第一部電影的平均評價:2.4顆星\n"
     ]
    }
   ],
   "source": [
    "sum=0\n",
    "for j in range(num_users):\n",
    "    if R[0][j]==1:\n",
    "        sum+=Y[0][j]\n",
    "tsmean = sum/num_users\n",
    "print(f\"對於第一部電影的平均評價:{tsmean:0.1f}顆星\" )"
   ]
  },
  {
   "cell_type": "markdown",
   "id": "c2a78cd9-697d-458d-a1e1-89aba5bf648b",
   "metadata": {},
   "source": [
    "-------------------------------------------------------------\n",
    "<a name=\"4.1\"></a>\n",
    "#### \\#collaborative filtering cost function 的定義\n",
    "$$J({\\mathbf{x}^{(0)},...,\\mathbf{x}^{(n_m-1)},\\mathbf{w}^{(0)},b^{(0)},...,\\mathbf{w}^{(n_u-1)},b^{(n_u-1)}})= \\left[ \\frac{1}{2}\\sum_{(i,j):r(i,j)=1}(\\mathbf{w}^{(j)} \\cdot \\mathbf{x}^{(i)} + b^{(j)} - y^{(i,j)})^2 \\right]\n",
    "+ \\underbrace{\\left[\n",
    "\\frac{\\lambda}{2}\n",
    "\\sum_{j=0}^{n_u-1}\\sum_{k=0}^{n-1}(\\mathbf{w}^{(j)}_k)^2\n",
    "+ \\frac{\\lambda}{2}\\sum_{i=0}^{n_m-1}\\sum_{k=0}^{n-1}(\\mathbf{x}_k^{(i)})^2\n",
    "\\right]}_{regularization}\n",
    "\\tag{1}$$\n",
    "The first summation in (1) is \"for all $i$, $j$ where $r(i,j)$ equals $1$\" and could be written:\n",
    "\n",
    "$$\n",
    "= \\left[ \\frac{1}{2}\\sum_{j=0}^{n_u-1} \\sum_{i=0}^{n_m-1}r(i,j)*(\\mathbf{w}^{(j)} \\cdot \\mathbf{x}^{(i)} + b^{(j)} - y^{(i,j)})^2 \\right]\n",
    "+\\text{regularization}\n",
    "$$"
   ]
  },
  {
   "cell_type": "code",
   "execution_count": 135,
   "id": "5c481d61-5556-4079-adca-1172915f4275",
   "metadata": {},
   "outputs": [],
   "source": [
    "def cofi_cost_func(X, W, b, Y, R, lambda_):\n",
    "    J = 0 \n",
    "    for i in range(num_users):\n",
    "        w=W[i][:]\n",
    "        for k in range(num_movies):\n",
    "            x=X[k][:]\n",
    "            y=Y[k][i]\n",
    "            r=R[k][i]\n",
    "            J += np.square(r * (np.dot(w,x) + b[0][i] - y ) )\n",
    "        J +=lambda_* (np.sum(np.square(W)) + np.sum(np.square(X)))\n",
    "    J=J/2         \n",
    "    return J"
   ]
  },
  {
   "cell_type": "code",
   "execution_count": 136,
   "id": "a5010330-6a26-4dbd-89e4-cc460593ba36",
   "metadata": {},
   "outputs": [
    {
     "name": "stdout",
     "output_type": "stream",
     "text": [
      "Cost (with regularization): 5670.21\n"
     ]
    }
   ],
   "source": [
    "# Evaluate cost function with regularization \n",
    "J = cofi_cost_func(X, W, b, Y, R, 1.5);\n",
    "print(f\"Cost (with regularization): {J:0.2f}\")"
   ]
  },
  {
   "cell_type": "code",
   "execution_count": 137,
   "id": "1a787d0c-39f2-41dd-bd84-2d9af983c390",
   "metadata": {},
   "outputs": [],
   "source": [
    "#  Useful Values\n",
    "num_movies, num_users = 300,100\n",
    "num_features = 30\n",
    "\n",
    "# Set Initial Parameters (W, X), use tf.Variable to track these variables\n",
    "tf.random.set_seed(1234) # for consistent results\n",
    "W = tf.Variable(tf.random.normal((num_users,  num_features),dtype=tf.float64),  name='W')\n",
    "X = tf.Variable(tf.random.normal((num_movies, num_features),dtype=tf.float64),  name='X')\n",
    "b = tf.Variable(tf.random.normal((1,num_users),dtype=tf.float64) ,  name='b')\n",
    "Y =[]\n",
    "R =[]\n",
    "\n",
    "for i in range(num_movies):\n",
    "    Y.append([])\n",
    "    R.append([])\n",
    "    for j in range(num_users):\n",
    "        rate=round(random.uniform(0, 5), 0)\n",
    "        Y[i].append(rate)\n",
    "        R[i].append(rate)\n",
    "        if Y[i][j]>=1:\n",
    "            R[i][j]=1.0\n",
    "        else:\n",
    "            R[i][j]=0.0\n",
    "            \n",
    "# Instantiate an optimizer.\n",
    "optimizer = keras.optimizers.Adam(learning_rate=1e-1)"
   ]
  },
  {
   "cell_type": "code",
   "execution_count": 141,
   "id": "4020b6ff-555b-40d9-9af8-745468877f71",
   "metadata": {},
   "outputs": [
    {
     "name": "stdout",
     "output_type": "stream",
     "text": [
      "<tf.Variable 'b:0' shape=(1, 100) dtype=float64, numpy=\n",
      "array([[-0.08194051,  0.7000041 , -0.98175261,  1.10141916, -0.49974704,\n",
      "         0.39351135, -1.23614588,  0.99599781, -0.91513672,  0.31685958,\n",
      "         0.47418537, -0.38766181, -0.66364006,  0.34178677, -0.30953542,\n",
      "         2.30197844,  2.19730294, -0.58498967,  0.26631225,  1.63030408,\n",
      "        -2.04239495,  0.39630212, -2.13983715,  3.33201036, -0.46764289,\n",
      "        -0.15335556, -0.51456379, -0.58334794, -0.95389979, -0.41268613,\n",
      "         0.84326297, -0.90365459, -1.11368457,  0.14639436,  1.17330207,\n",
      "         1.26389855,  1.45581175, -0.45724971,  0.76289591, -0.17507672,\n",
      "         0.42835664, -1.18268666, -0.40656716, -1.68187541,  3.96737893,\n",
      "        -2.71427732,  0.31842615,  1.19225222,  1.16441078,  0.49310621,\n",
      "         0.05172945,  0.85886458, -1.06175083,  0.0864987 ,  1.18688573,\n",
      "         1.32847309, -0.63768585,  0.36481673,  1.01765262, -1.25631556,\n",
      "        -0.14750861, -0.36233672, -0.81235216, -0.73540246, -0.33410804,\n",
      "        -0.36671106,  0.11334598, -0.91057084, -1.28700234, -1.27636539,\n",
      "        -0.20082679, -1.49317177,  0.48716752, -0.17571569,  0.94869359,\n",
      "         1.34008401,  0.09153212, -0.13439046, -0.52737189,  0.08039961,\n",
      "        -0.65915226, -0.13562325,  0.89614834,  0.82462297,  2.56084924,\n",
      "        -1.19182886,  1.11784298, -0.6283797 ,  0.63999153,  1.2297    ,\n",
      "         1.0595581 , -3.070829  , -0.02629888,  0.54659776, -1.03362738,\n",
      "        -0.64675784, -0.0350856 , -0.31821996,  0.10989627,  0.30044067]])>\n"
     ]
    }
   ],
   "source": [
    "print(b)"
   ]
  },
  {
   "cell_type": "code",
   "execution_count": 138,
   "id": "47e5a76d-8e6e-404f-8890-a49bcb8a82a4",
   "metadata": {},
   "outputs": [],
   "source": [
    "# Add new user ratings to Y \n",
    "for i in range(num_movies):\n",
    "    rate=round(random.uniform(0, 5), 0)\n",
    "    Y[i].append(rate)\n",
    "    if rate >= 1:\n",
    "        R[i].append(1.0)\n",
    "    else:\n",
    "        R[i].append(0.0)"
   ]
  },
  {
   "cell_type": "code",
   "execution_count": 139,
   "id": "de199815-4076-49ca-acff-4140b358747b",
   "metadata": {},
   "outputs": [],
   "source": [
    "#正規化Y\n",
    "#minY=min(map(min, Y))\n",
    "#maxY=max(map(max, Y))\n",
    "#for i in range(num_movies):\n",
    "    #for j in range(num_users):\n",
    "        #Y[i][j]=(Y[i][j]-minY)/(maxY-minY)"
   ]
  },
  {
   "cell_type": "code",
   "execution_count": 140,
   "id": "9df83f84-72d8-4c2d-8009-224bdcd3c839",
   "metadata": {},
   "outputs": [
    {
     "ename": "KeyboardInterrupt",
     "evalue": "",
     "output_type": "error",
     "traceback": [
      "\u001b[1;31m---------------------------------------------------------------------------\u001b[0m",
      "\u001b[1;31mKeyboardInterrupt\u001b[0m                         Traceback (most recent call last)",
      "Cell \u001b[1;32mIn[140], line 8\u001b[0m\n\u001b[0;32m      3\u001b[0m \u001b[38;5;28;01mfor\u001b[39;00m \u001b[38;5;28miter\u001b[39m \u001b[38;5;129;01min\u001b[39;00m \u001b[38;5;28mrange\u001b[39m(iterations):\n\u001b[0;32m      4\u001b[0m     \u001b[38;5;66;03m# Use TensorFlow’s GradientTape\u001b[39;00m\n\u001b[0;32m      5\u001b[0m     \u001b[38;5;66;03m# to record the operations used to compute the cost \u001b[39;00m\n\u001b[0;32m      6\u001b[0m     \u001b[38;5;28;01mwith\u001b[39;00m tf\u001b[38;5;241m.\u001b[39mGradientTape() \u001b[38;5;28;01mas\u001b[39;00m tape:\n\u001b[0;32m      7\u001b[0m         \u001b[38;5;66;03m# Compute the cost (forward pass included in cost)\u001b[39;00m\n\u001b[1;32m----> 8\u001b[0m         cost_value \u001b[38;5;241m=\u001b[39m \u001b[43mcofi_cost_func\u001b[49m\u001b[43m(\u001b[49m\u001b[43mX\u001b[49m\u001b[43m,\u001b[49m\u001b[43m \u001b[49m\u001b[43mW\u001b[49m\u001b[43m,\u001b[49m\u001b[43m \u001b[49m\u001b[43mb\u001b[49m\u001b[43m,\u001b[49m\u001b[43m \u001b[49m\u001b[43mY\u001b[49m\u001b[43m,\u001b[49m\u001b[43m \u001b[49m\u001b[43mR\u001b[49m\u001b[43m,\u001b[49m\u001b[43m \u001b[49m\u001b[43mlambda_\u001b[49m\u001b[43m)\u001b[49m\n\u001b[0;32m     10\u001b[0m     cost_value\u001b[38;5;241m=\u001b[39mtf\u001b[38;5;241m.\u001b[39mconvert_to_tensor(cost_value,dtype\u001b[38;5;241m=\u001b[39mtf\u001b[38;5;241m.\u001b[39mfloat64)\n\u001b[0;32m     11\u001b[0m     \u001b[38;5;66;03m# Use the gradient tape to automatically retrieve\u001b[39;00m\n\u001b[0;32m     12\u001b[0m     \u001b[38;5;66;03m# the gradients of the trainable variables with respect to the loss\u001b[39;00m\n",
      "Cell \u001b[1;32mIn[135], line 9\u001b[0m, in \u001b[0;36mcofi_cost_func\u001b[1;34m(X, W, b, Y, R, lambda_)\u001b[0m\n\u001b[0;32m      7\u001b[0m         y\u001b[38;5;241m=\u001b[39mY[k][i]\n\u001b[0;32m      8\u001b[0m         r\u001b[38;5;241m=\u001b[39mR[k][i]\n\u001b[1;32m----> 9\u001b[0m         J \u001b[38;5;241m+\u001b[39m\u001b[38;5;241m=\u001b[39m \u001b[43mnp\u001b[49m\u001b[38;5;241;43m.\u001b[39;49m\u001b[43msquare\u001b[49m\u001b[43m(\u001b[49m\u001b[43mr\u001b[49m\u001b[43m \u001b[49m\u001b[38;5;241;43m*\u001b[39;49m\u001b[43m \u001b[49m\u001b[43m(\u001b[49m\u001b[43mnp\u001b[49m\u001b[38;5;241;43m.\u001b[39;49m\u001b[43mdot\u001b[49m\u001b[43m(\u001b[49m\u001b[43mw\u001b[49m\u001b[43m,\u001b[49m\u001b[43mx\u001b[49m\u001b[43m)\u001b[49m\u001b[43m \u001b[49m\u001b[38;5;241;43m+\u001b[39;49m\u001b[43m \u001b[49m\u001b[43mb\u001b[49m\u001b[43m[\u001b[49m\u001b[38;5;241;43m0\u001b[39;49m\u001b[43m]\u001b[49m\u001b[43m[\u001b[49m\u001b[43mi\u001b[49m\u001b[43m]\u001b[49m\u001b[43m \u001b[49m\u001b[38;5;241;43m-\u001b[39;49m\u001b[43m \u001b[49m\u001b[43my\u001b[49m\u001b[43m \u001b[49m\u001b[43m)\u001b[49m\u001b[43m \u001b[49m\u001b[43m)\u001b[49m\n\u001b[0;32m     10\u001b[0m     J \u001b[38;5;241m+\u001b[39m\u001b[38;5;241m=\u001b[39mlambda_\u001b[38;5;241m*\u001b[39m (np\u001b[38;5;241m.\u001b[39msum(np\u001b[38;5;241m.\u001b[39msquare(W)) \u001b[38;5;241m+\u001b[39m np\u001b[38;5;241m.\u001b[39msum(np\u001b[38;5;241m.\u001b[39msquare(X)))\n\u001b[0;32m     11\u001b[0m J\u001b[38;5;241m=\u001b[39mJ\u001b[38;5;241m/\u001b[39m\u001b[38;5;241m2\u001b[39m         \n",
      "\u001b[1;31mKeyboardInterrupt\u001b[0m: "
     ]
    }
   ],
   "source": [
    "iterations=100\n",
    "lambda_=1.5\n",
    "for iter in range(iterations):\n",
    "    # Use TensorFlow’s GradientTape\n",
    "    # to record the operations used to compute the cost \n",
    "    with tf.GradientTape() as tape:\n",
    "        # Compute the cost (forward pass included in cost)\n",
    "        cost_value = cofi_cost_func(X, W, b, Y, R, lambda_)\n",
    "    \n",
    "    cost_value=tf.convert_to_tensor(cost_value,dtype=tf.float64)\n",
    "    # Use the gradient tape to automatically retrieve\n",
    "    # the gradients of the trainable variables with respect to the loss\n",
    "    grads = tape.gradient(cost_value, [X,W,b] ,unconnected_gradients=tf.UnconnectedGradients.ZERO)\n",
    "    # Run one step of gradient descent by updating\n",
    "    # the value of the variables to minimize the loss.\n",
    "    optimizer.apply_gradients(zip(grads, [X,W,b]) )\n",
    "\n",
    "    # Log periodically.\n",
    "    #if iter % 20 == 0:\n",
    "    print(f\"Training loss at iteration {iter}: {cost_value:0.1f}\")"
   ]
  },
  {
   "cell_type": "code",
   "execution_count": null,
   "id": "c7e1c5c0-e0bb-4eb7-a87c-99bf822dc398",
   "metadata": {},
   "outputs": [],
   "source": []
  }
 ],
 "metadata": {
  "kernelspec": {
   "display_name": "Python 3 (ipykernel)",
   "language": "python",
   "name": "python3"
  },
  "language_info": {
   "codemirror_mode": {
    "name": "ipython",
    "version": 3
   },
   "file_extension": ".py",
   "mimetype": "text/x-python",
   "name": "python",
   "nbconvert_exporter": "python",
   "pygments_lexer": "ipython3",
   "version": "3.11.5"
  }
 },
 "nbformat": 4,
 "nbformat_minor": 5
}
